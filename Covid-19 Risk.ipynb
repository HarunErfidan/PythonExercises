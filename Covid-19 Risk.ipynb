{
 "cells": [
  {
   "cell_type": "code",
   "execution_count": 3,
   "metadata": {},
   "outputs": [
    {
     "name": "stdout",
     "output_type": "stream",
     "text": [
      "Welcome to Covid-19 Risk Analysis. Please answer the questions Yes or No\n",
      "Are you a cigarette addict older than 75 years old? No\n",
      "Do you have a severe chronic disease? Yes\n",
      "Is your immune system too weak? No\n",
      "You are in 80% risky group.\n"
     ]
    }
   ],
   "source": [
    "print(\"Welcome to Covid-19 Risk Analysis. Please answer the questions Yes or No\")\n",
    "age = input(\"Are you a cigarette addict older than 75 years old? \")\n",
    "chronic = input(\"Do you have a severe chronic disease? \")\n",
    "immune = input(\"Is your immune system too weak? \")\n",
    "Yes = True\n",
    "No = False\n",
    "if age and chronic and immune:\n",
    "    print(\"You are in 80% risky group.\")\n",
    "elif age and chronic:\n",
    "    print(\"You are in 60% risky group.\")\n",
    "elif chronic and immune:\n",
    "    print(\"You are in 70% risky group.\")\n",
    "elif age and immune:\n",
    "    print(\"You are in 50% risky group.\")\n",
    "else:\n",
    "    print(\"You are in less than 50% risky group\")\n",
    "    \n",
    "          \n",
    "          "
   ]
  },
  {
   "cell_type": "code",
   "execution_count": null,
   "metadata": {},
   "outputs": [],
   "source": []
  }
 ],
 "metadata": {
  "kernelspec": {
   "display_name": "Python 3",
   "language": "python",
   "name": "python3"
  },
  "language_info": {
   "codemirror_mode": {
    "name": "ipython",
    "version": 3
   },
   "file_extension": ".py",
   "mimetype": "text/x-python",
   "name": "python",
   "nbconvert_exporter": "python",
   "pygments_lexer": "ipython3",
   "version": "3.8.5"
  }
 },
 "nbformat": 4,
 "nbformat_minor": 4
}
