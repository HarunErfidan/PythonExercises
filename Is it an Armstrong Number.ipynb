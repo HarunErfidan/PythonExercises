{
 "cells": [
  {
   "cell_type": "code",
   "execution_count": null,
   "metadata": {},
   "outputs": [],
   "source": [
    "\n",
    "while True:\n",
    "    num = input(\"Please enter a number?\")\n",
    "    length = len(num)\n",
    "    sum = 0\n",
    "\n",
    "    for i in range(length):\n",
    "        sum = sum + int(num[i]) ** length\n",
    "    if sum == int(num):\n",
    "        print(f\"{num} is Armstrong Number.\")\n",
    "    else:\n",
    "        print(f\"{num} is not Armstrong Number.\")\n",
    "    \n"
   ]
  },
  {
   "cell_type": "code",
   "execution_count": null,
   "metadata": {},
   "outputs": [],
   "source": []
  }
 ],
 "metadata": {
  "kernelspec": {
   "display_name": "Python 3",
   "language": "python",
   "name": "python3"
  },
  "language_info": {
   "codemirror_mode": {
    "name": "ipython",
    "version": 3
   },
   "file_extension": ".py",
   "mimetype": "text/x-python",
   "name": "python",
   "nbconvert_exporter": "python",
   "pygments_lexer": "ipython3",
   "version": "3.8.5"
  }
 },
 "nbformat": 4,
 "nbformat_minor": 4
}
