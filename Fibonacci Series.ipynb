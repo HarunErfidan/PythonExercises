{
 "cells": [
  {
   "cell_type": "code",
   "execution_count": null,
   "metadata": {},
   "outputs": [],
   "source": [
    "#Fn = Fn-1 + Fn -2\n",
    "\n",
    "liste = [0,1]\n",
    "num = int(input(\"Please enter a number for length of fibonacci series:\\t\"))\n",
    "\n",
    "for i in range(2,num):\n",
    "    i = liste[i-1] + liste[i-2]\n",
    "    liste.append(i)\n",
    "print(f\"Fibonacci series is : {liste}\")\n",
    "    \n",
    "    \n",
    "    \n",
    "    \n"
   ]
  },
  {
   "cell_type": "code",
   "execution_count": null,
   "metadata": {},
   "outputs": [],
   "source": []
  }
 ],
 "metadata": {
  "kernelspec": {
   "display_name": "Python 3",
   "language": "python",
   "name": "python3"
  },
  "language_info": {
   "codemirror_mode": {
    "name": "ipython",
    "version": 3
   },
   "file_extension": ".py",
   "mimetype": "text/x-python",
   "name": "python",
   "nbconvert_exporter": "python",
   "pygments_lexer": "ipython3",
   "version": "3.8.5"
  }
 },
 "nbformat": 4,
 "nbformat_minor": 4
}
