{
 "cells": [
  {
   "cell_type": "code",
   "execution_count": 4,
   "metadata": {},
   "outputs": [
    {
     "name": "stdout",
     "output_type": "stream",
     "text": [
      "Please enter your user name:\tasd\n",
      "Please enter your password:\t123\n",
      "Invalid username and password\n"
     ]
    }
   ],
   "source": [
    "isim = \"Harun\"\n",
    "Parola = \"E123\"\n",
    "\n",
    "name = input(\"Please enter your user name:\\t\")\n",
    "password = input(\"Please enter your password:\\t\")\n",
    "if name == isim and password == Parola:\n",
    "    print(\"Hello!Welcome..\")\n",
    "    \n",
    "elif name != isim and password == Parola:\n",
    "    print(\"Invalid Username\")\n",
    "elif name == isim and password != Parola:\n",
    "    print(\"Invalid password\")\n",
    "elif name != isim and password != Parola:\n",
    "    print(\"Invalid username and password\")"
   ]
  },
  {
   "cell_type": "code",
   "execution_count": null,
   "metadata": {},
   "outputs": [],
   "source": []
  },
  {
   "cell_type": "code",
   "execution_count": null,
   "metadata": {},
   "outputs": [],
   "source": []
  }
 ],
 "metadata": {
  "kernelspec": {
   "display_name": "Python 3",
   "language": "python",
   "name": "python3"
  },
  "language_info": {
   "codemirror_mode": {
    "name": "ipython",
    "version": 3
   },
   "file_extension": ".py",
   "mimetype": "text/x-python",
   "name": "python",
   "nbconvert_exporter": "python",
   "pygments_lexer": "ipython3",
   "version": "3.8.5"
  }
 },
 "nbformat": 4,
 "nbformat_minor": 4
}
